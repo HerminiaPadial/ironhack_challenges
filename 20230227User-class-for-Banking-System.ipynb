{
 "cells": [
  {
   "cell_type": "code",
   "execution_count": 22,
   "id": "202e715b",
   "metadata": {},
   "outputs": [],
   "source": [
    "class User(object):\n",
    "    def __init__(self, name, balance, checking_account):\n",
    "        self.name = name\n",
    "        self.balance = balance\n",
    "        self.checking_account = checking_account\n",
    "    #Happy coding\n",
    "    def withdraw(self, money):\n",
    "        newmoney = self.balance - money\n",
    "        if money > self.balance:\n",
    "            raise ValueError (\"There isn't enough money to withdraw\")\n",
    "        else:\n",
    "            money <= self.balance\n",
    "            return f' {self.name} has {newmoney}' \n",
    "    def check(self, newusers, moneynewuser): \n",
    "        if not self.checking_account:\n",
    "            raise ValueError(\"Checking account isn't true for this user\")\n",
    "        newbalance= moneynewuser + self.balance\n",
    "        if moneynewuser <= 0:\n",
    "            raise ValueError (\"There isn't enough money\")\n",
    "            self.balance += moneynewuser\n",
    "            newusers.balance += moneynewuser\n",
    "            return f' {self.name} has {self.balance} and {newusers.name} has {newusers.balance}' \n",
    "    def add_cash (self, moremoney):\n",
    "        self.balance += moremoney\n",
    "        return f\"{self.name} has {self.balance}\" "
   ]
  },
  {
   "cell_type": "code",
   "execution_count": 21,
   "id": "bc9b4163",
   "metadata": {},
   "outputs": [
    {
     "data": {
      "text/plain": [
       "<__main__.User at 0x7ff60688e0d0>"
      ]
     },
     "execution_count": 21,
     "metadata": {},
     "output_type": "execute_result"
    }
   ],
   "source": [
    "Jeff = User('Jeff', 70, True)\n",
    "Jeff"
   ]
  },
  {
   "cell_type": "code",
   "execution_count": null,
   "id": "422ab1d1",
   "metadata": {},
   "outputs": [],
   "source": [
    "#lo dejo aquí porque no sé seguir. \n",
    "#Aquí no me aparece ningún fallo, pero no pasa todos los test de codewars.\n",
    "#Sé que tengo que tener un error en la función check, pero no sé como solventarlo.\n",
    "#De hecho no termino de entender la Kata, lo que tengo hecho ha sido buscando por internet la mayoría."
   ]
  }
 ],
 "metadata": {
  "kernelspec": {
   "display_name": "Python [conda env:m1_env]",
   "language": "python",
   "name": "conda-env-m1_env-py"
  },
  "language_info": {
   "codemirror_mode": {
    "name": "ipython",
    "version": 3
   },
   "file_extension": ".py",
   "mimetype": "text/x-python",
   "name": "python",
   "nbconvert_exporter": "python",
   "pygments_lexer": "ipython3",
   "version": "3.9.16"
  }
 },
 "nbformat": 4,
 "nbformat_minor": 5
}
