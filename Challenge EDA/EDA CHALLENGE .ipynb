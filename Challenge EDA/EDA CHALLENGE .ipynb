{
 "cells": [
  {
   "cell_type": "code",
   "execution_count": 12,
   "id": "d18fb19f",
   "metadata": {},
   "outputs": [],
   "source": [
    "#LECTURA DE TABLAS DB"
   ]
  },
  {
   "cell_type": "code",
   "execution_count": 13,
   "id": "c857a096",
   "metadata": {},
   "outputs": [],
   "source": [
    "#!pip install duckdb"
   ]
  },
  {
   "cell_type": "code",
   "execution_count": 31,
   "id": "470fa89c",
   "metadata": {},
   "outputs": [],
   "source": [
    "import pandas as pd\n",
    "import requests\n",
    "import sqlite3\n",
    "import duckdb"
   ]
  },
  {
   "cell_type": "code",
   "execution_count": 44,
   "id": "204188ac",
   "metadata": {},
   "outputs": [
    {
     "data": {
      "text/plain": [
       "<duckdb.DuckDBPyConnection at 0x7fee5956af30>"
      ]
     },
     "execution_count": 44,
     "metadata": {},
     "output_type": "execute_result"
    }
   ],
   "source": [
    "#CONEXIÓN CON DUCKDB\n",
    "conexion = duckdb.connect('../diamonds_train.db')\n",
    "conexion"
   ]
  },
  {
   "cell_type": "code",
   "execution_count": 45,
   "id": "1f53b735",
   "metadata": {},
   "outputs": [
    {
     "name": "stdout",
     "output_type": "stream",
     "text": [
      "[('diamonds_city',), ('diamonds_clarity',), ('diamonds_color',), ('diamonds_cut',), ('diamonds_dimensions',), ('diamonds_properties',), ('diamonds_transactional',), ('sqlite_autoindex_diamonds_city_1',), ('sqlite_autoindex_diamonds_clarity_1',), ('sqlite_autoindex_diamonds_color_1',), ('sqlite_autoindex_diamonds_cut_1',), ('sqlite_autoindex_diamonds_dimensions_1',), ('sqlite_autoindex_diamonds_properties_1',), ('sqlite_autoindex_diamonds_transactional_1',)]\n"
     ]
    }
   ],
   "source": [
    "#Comprobar las tablas que hay\n",
    "print(con.execute(\"SHOW TABLES\").fetchall())\n"
   ]
  },
  {
   "cell_type": "code",
   "execution_count": null,
   "id": "2fbc3b1b",
   "metadata": {},
   "outputs": [],
   "source": [
    "#Recuperamos las tablas y las pasamos a DataFrame"
   ]
  },
  {
   "cell_type": "code",
   "execution_count": 55,
   "id": "156d35fd",
   "metadata": {},
   "outputs": [],
   "source": [
    "df_diamonds_city = con.execute(\"SELECT * FROM diamonds_city\").fetchdf()\n",
    "#df_diamonds_city.head(2)"
   ]
  },
  {
   "cell_type": "code",
   "execution_count": 67,
   "id": "accd328a",
   "metadata": {},
   "outputs": [
    {
     "data": {
      "text/plain": [
       "pandas.core.frame.DataFrame"
      ]
     },
     "execution_count": 67,
     "metadata": {},
     "output_type": "execute_result"
    }
   ],
   "source": [
    "type(df_diamonds_city)"
   ]
  },
  {
   "cell_type": "code",
   "execution_count": 56,
   "id": "bf2536aa",
   "metadata": {},
   "outputs": [],
   "source": [
    "df_diamonds_clarity = con.execute(\"SELECT * FROM diamonds_clarity\").fetchdf()\n",
    "#df_diamonds_clarity.head(2)"
   ]
  },
  {
   "cell_type": "code",
   "execution_count": 57,
   "id": "129fc7c0",
   "metadata": {},
   "outputs": [],
   "source": [
    "df_diamonds_color = con.execute(\"SELECT * FROM diamonds_color\").fetchdf()\n",
    "#df_diamonds_color.head(2)"
   ]
  },
  {
   "cell_type": "code",
   "execution_count": 58,
   "id": "ea56c065",
   "metadata": {},
   "outputs": [],
   "source": [
    "df_diamonds_cut = con.execute(\"SELECT * FROM diamonds_cut\").fetchdf()\n",
    "#df_diamonds_cut.head(2)"
   ]
  },
  {
   "cell_type": "code",
   "execution_count": 63,
   "id": "e92ed444",
   "metadata": {},
   "outputs": [],
   "source": [
    "df_diamonds_dimensions = con.execute(\"SELECT * FROM diamonds_dimensions\").fetchdf()\n",
    "#df_diamonds_dimensions.head(2)"
   ]
  },
  {
   "cell_type": "code",
   "execution_count": 64,
   "id": "081f9fbf",
   "metadata": {},
   "outputs": [],
   "source": [
    "df_diamonds_properties = con.execute(\"SELECT * FROM diamonds_properties\").fetchdf()\n",
    "#df_diamonds_properties.head(2)"
   ]
  },
  {
   "cell_type": "code",
   "execution_count": 65,
   "id": "3195c18f",
   "metadata": {},
   "outputs": [],
   "source": [
    "df_diamonds_transactional = con.execute(\"SELECT * FROM diamonds_transactional\").fetchdf()\n",
    "#df_diamonds_transactional.head(2)"
   ]
  },
  {
   "cell_type": "code",
   "execution_count": 66,
   "id": "4be747f3",
   "metadata": {},
   "outputs": [],
   "source": [
    "df_sqlite_schema = con.execute(\"SELECT * FROM sqlite_schema \").fetchdf()\n",
    "#df_sqlite_schema.head(2)"
   ]
  },
  {
   "cell_type": "code",
   "execution_count": null,
   "id": "b60ff621",
   "metadata": {},
   "outputs": [],
   "source": []
  }
 ],
 "metadata": {
  "kernelspec": {
   "display_name": "Python [conda env:m1_env]",
   "language": "python",
   "name": "conda-env-m1_env-py"
  },
  "language_info": {
   "codemirror_mode": {
    "name": "ipython",
    "version": 3
   },
   "file_extension": ".py",
   "mimetype": "text/x-python",
   "name": "python",
   "nbconvert_exporter": "python",
   "pygments_lexer": "ipython3",
   "version": "3.9.16"
  }
 },
 "nbformat": 4,
 "nbformat_minor": 5
}
