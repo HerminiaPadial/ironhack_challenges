{
 "cells": [
  {
   "cell_type": "code",
   "execution_count": 9,
   "id": "56d74898",
   "metadata": {},
   "outputs": [
    {
     "data": {
      "text/plain": [
       "False"
      ]
     },
     "execution_count": 9,
     "metadata": {},
     "output_type": "execute_result"
    }
   ],
   "source": [
    "def sp_eng(sentence): \n",
    "    if sentence.lower() in \"english\":\n",
    "        return True\n",
    "    else:\n",
    "        return False\n",
    "sp_eng('hola')"
   ]
  },
  {
   "cell_type": "code",
   "execution_count": 14,
   "id": "5955a658",
   "metadata": {},
   "outputs": [
    {
     "data": {
      "text/plain": [
       "True"
      ]
     },
     "execution_count": 14,
     "metadata": {},
     "output_type": "execute_result"
    }
   ],
   "source": [
    "def sp_eng(sentence): \n",
    "    if sentence.lower() in \"english\":\n",
    "        return True \n",
    "    else:\n",
    "        return False\n",
    "sp_eng('English')"
   ]
  },
  {
   "cell_type": "code",
   "execution_count": null,
   "id": "bbca62d6",
   "metadata": {},
   "outputs": [],
   "source": []
  }
 ],
 "metadata": {
  "kernelspec": {
   "display_name": "Python [conda env:m1_env]",
   "language": "python",
   "name": "conda-env-m1_env-py"
  },
  "language_info": {
   "codemirror_mode": {
    "name": "ipython",
    "version": 3
   },
   "file_extension": ".py",
   "mimetype": "text/x-python",
   "name": "python",
   "nbconvert_exporter": "python",
   "pygments_lexer": "ipython3",
   "version": "3.9.16"
  }
 },
 "nbformat": 4,
 "nbformat_minor": 5
}
