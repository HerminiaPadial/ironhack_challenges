{
 "cells": [
  {
   "cell_type": "code",
   "execution_count": null,
   "id": "59935616",
   "metadata": {},
   "outputs": [],
   "source": [
    "SELECT DISTINCT (clan),\n",
    "       CASE WHEN TRIM(clan) = '' THEN '[no clan specified]' ELSE clan END AS clan,\n",
    "       SUM(points) AS total_points,\n",
    "       COUNT(name) AS total_people,\n",
    "       RANK() OVER (ORDER BY SUM(points) DESC) AS rank\n",
    "FROM   people\n",
    "GROUP  BY clan\n",
    "ORDER BY rank ASC"
   ]
  },
  {
   "cell_type": "code",
   "execution_count": null,
   "id": "8ea2ea9f",
   "metadata": {},
   "outputs": [],
   "source": []
  }
 ],
 "metadata": {
  "kernelspec": {
   "display_name": "Python [conda env:m1_env]",
   "language": "python",
   "name": "conda-env-m1_env-py"
  },
  "language_info": {
   "codemirror_mode": {
    "name": "ipython",
    "version": 3
   },
   "file_extension": ".py",
   "mimetype": "text/x-python",
   "name": "python",
   "nbconvert_exporter": "python",
   "pygments_lexer": "ipython3",
   "version": "3.9.16"
  }
 },
 "nbformat": 4,
 "nbformat_minor": 5
}
