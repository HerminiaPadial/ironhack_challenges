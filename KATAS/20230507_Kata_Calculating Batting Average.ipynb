{
 "cells": [
  {
   "cell_type": "code",
   "execution_count": 1,
   "id": "b0a2ef4b",
   "metadata": {},
   "outputs": [
    {
     "ename": "SyntaxError",
     "evalue": "invalid syntax (2053325596.py, line 1)",
     "output_type": "error",
     "traceback": [
      "\u001b[0;36m  Cell \u001b[0;32mIn[1], line 1\u001b[0;36m\u001b[0m\n\u001b[0;31m    select player_name,\u001b[0m\n\u001b[0m           ^\u001b[0m\n\u001b[0;31mSyntaxError\u001b[0m\u001b[0;31m:\u001b[0m invalid syntax\n"
     ]
    }
   ],
   "source": [
    "''''select player_name,\n",
    "games, \n",
    "CAST(ROUND(batting_average:: numeric, 3) AS text) AS batting_average\n",
    "from \n",
    "(select \n",
    "player_name, \n",
    "games,\n",
    "cast(hits as decimal)/cast(at_bats as decimal) as batting_average\n",
    "from yankees\n",
    "where at_bats >= 100\n",
    "order by batting_average desc)as a;"
   ]
  },
  {
   "cell_type": "code",
   "execution_count": null,
   "id": "c6088488",
   "metadata": {},
   "outputs": [],
   "source": [
    "''''select player_name,\n",
    "games, \n",
    "round ((batting_average, 3) as text) as batting_average\n",
    "from \n",
    "(select \n",
    "player_name, \n",
    "games,\n",
    "cast(hits as decimal)/(cast(at_bats as decimal) as batting_average\n",
    "from yankees\n",
    "where at_bats >= 100\n",
    "order by batting_average des) as a'''"
   ]
  }
 ],
 "metadata": {
  "kernelspec": {
   "display_name": "Python [conda env:m1_env]",
   "language": "python",
   "name": "conda-env-m1_env-py"
  },
  "language_info": {
   "codemirror_mode": {
    "name": "ipython",
    "version": 3
   },
   "file_extension": ".py",
   "mimetype": "text/x-python",
   "name": "python",
   "nbconvert_exporter": "python",
   "pygments_lexer": "ipython3",
   "version": "3.9.16"
  }
 },
 "nbformat": 4,
 "nbformat_minor": 5
}
