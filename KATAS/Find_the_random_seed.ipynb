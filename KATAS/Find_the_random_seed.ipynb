{
 "cells": [
  {
   "cell_type": "code",
   "execution_count": null,
   "id": "edb4088e",
   "metadata": {},
   "outputs": [],
   "source": [
    "from random import seed, randint\n",
    "\n",
    "def find_random_seed(A):\n",
    "    for s in range(10000):\n",
    "        seed(s)\n",
    "        if [randint(0, 100) for _ in range(10)] == A:\n",
    "            return s"
   ]
  }
 ],
 "metadata": {
  "kernelspec": {
   "display_name": "Python [conda env:jp_env]",
   "language": "python",
   "name": "conda-env-jp_env-py"
  },
  "language_info": {
   "codemirror_mode": {
    "name": "ipython",
    "version": 3
   },
   "file_extension": ".py",
   "mimetype": "text/x-python",
   "name": "python",
   "nbconvert_exporter": "python",
   "pygments_lexer": "ipython3",
   "version": "3.9.16"
  }
 },
 "nbformat": 4,
 "nbformat_minor": 5
}
