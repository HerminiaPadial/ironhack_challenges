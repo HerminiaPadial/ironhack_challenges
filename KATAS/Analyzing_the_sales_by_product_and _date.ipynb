{
 "cells": [
  {
   "cell_type": "code",
   "execution_count": null,
   "id": "191d85b8",
   "metadata": {},
   "outputs": [],
   "source": [
    "#KATA\n",
    "select\n",
    "  name as product_name,\n",
    "  extract(year from date)::int as year,\n",
    "  extract(month from date)::int as month,\n",
    "  extract(day from date)::int as day,\n",
    "  sum(price * count) as total\n",
    "from sales_details sd\n",
    "join sales s on sd.sale_id = s.id\n",
    "join products p on sd.product_id = p.id\n",
    "group by name, rollup(year, month, day)\n",
    "order by product_name, year, month, day"
   ]
  }
 ],
 "metadata": {
  "kernelspec": {
   "display_name": "Python [conda env:m1_env]",
   "language": "python",
   "name": "conda-env-m1_env-py"
  },
  "language_info": {
   "codemirror_mode": {
    "name": "ipython",
    "version": 3
   },
   "file_extension": ".py",
   "mimetype": "text/x-python",
   "name": "python",
   "nbconvert_exporter": "python",
   "pygments_lexer": "ipython3",
   "version": "3.9.16"
  }
 },
 "nbformat": 4,
 "nbformat_minor": 5
}
