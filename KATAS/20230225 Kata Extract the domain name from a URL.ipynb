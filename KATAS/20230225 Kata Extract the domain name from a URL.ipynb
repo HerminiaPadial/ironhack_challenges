{
 "cells": [
  {
   "cell_type": "code",
   "execution_count": 5,
   "id": "83578d54",
   "metadata": {},
   "outputs": [],
   "source": [
    "def domain_name(url):\n",
    "    return(url.split(\"//\")[-1].split(\"www.\")[-1].split (\".\")[0])"
   ]
  },
  {
   "cell_type": "code",
   "execution_count": 6,
   "id": "24ee9f88",
   "metadata": {},
   "outputs": [
    {
     "data": {
      "text/plain": [
       "'google'"
      ]
     },
     "execution_count": 6,
     "metadata": {},
     "output_type": "execute_result"
    }
   ],
   "source": [
    "var = domain_name(\"http://google.com\")\n",
    "var"
   ]
  },
  {
   "cell_type": "code",
   "execution_count": 7,
   "id": "858f93b3",
   "metadata": {},
   "outputs": [
    {
     "data": {
      "text/plain": [
       "'xakep'"
      ]
     },
     "execution_count": 7,
     "metadata": {},
     "output_type": "execute_result"
    }
   ],
   "source": [
    "domain_name(\"http://www.xakep.ru\")"
   ]
  },
  {
   "cell_type": "code",
   "execution_count": 8,
   "id": "504da7ed",
   "metadata": {},
   "outputs": [
    {
     "data": {
      "text/plain": [
       "'www.xakep.ru'"
      ]
     },
     "execution_count": 8,
     "metadata": {},
     "output_type": "execute_result"
    }
   ],
   "source": [
    "\"http://www.xakep.ru\".split(\"//\")[-1]"
   ]
  },
  {
   "cell_type": "code",
   "execution_count": 4,
   "id": "b57d8276",
   "metadata": {},
   "outputs": [
    {
     "data": {
      "text/plain": [
       "'.xakep.ru'"
      ]
     },
     "execution_count": 4,
     "metadata": {},
     "output_type": "execute_result"
    }
   ],
   "source": [
    "'www.xakep.ru'.split(\"www\")[-1]"
   ]
  },
  {
   "cell_type": "code",
   "execution_count": null,
   "id": "3e059231",
   "metadata": {},
   "outputs": [],
   "source": []
  }
 ],
 "metadata": {
  "kernelspec": {
   "display_name": "Python [conda env:m1_env]",
   "language": "python",
   "name": "conda-env-m1_env-py"
  },
  "language_info": {
   "codemirror_mode": {
    "name": "ipython",
    "version": 3
   },
   "file_extension": ".py",
   "mimetype": "text/x-python",
   "name": "python",
   "nbconvert_exporter": "python",
   "pygments_lexer": "ipython3",
   "version": "3.9.16"
  }
 },
 "nbformat": 4,
 "nbformat_minor": 5
}
