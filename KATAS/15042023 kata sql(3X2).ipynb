{
 "cells": [
  {
   "cell_type": "code",
   "execution_count": 2,
   "id": "9bc8ca69",
   "metadata": {},
   "outputs": [],
   "source": [
    "##KATA 1\n",
    "SELECT  \n",
    "description, \n",
    "date(created_at) as day,\n",
    "count(*) as count\n",
    "FROM events\n",
    "WHERE name='trained'\n",
    "GROUP BY (name, day, description)\n",
    "ORDER BY day"
   ]
  },
  {
   "cell_type": "code",
   "execution_count": null,
   "id": "999ba1fd",
   "metadata": {},
   "outputs": [],
   "source": [
    "##KATA 2\n",
    "SELECT capital \n",
    "FROM countries \n",
    "WHERE country LIKE 'E%' AND continent IN ('Africa', 'Afrika') \n",
    "ORDER BY capital ASC \n",
    "LIMIT 3;\n"
   ]
  },
  {
   "cell_type": "code",
   "execution_count": null,
   "id": "e0984203",
   "metadata": {},
   "outputs": [],
   "source": [
    "##KATA 3\n",
    "SELECT \n",
    "  date(s.transaction_date) as day,\n",
    "  d.name as department,\n",
    "  COUNT(s.id) as sale_count\n",
    "  FROM department d\n",
    "  INNER JOIN sale s on d.id = s.department_id\n",
    "  GROUP BY day, department\n",
    "  ORDER BY day asc;"
   ]
  }
 ],
 "metadata": {
  "kernelspec": {
   "display_name": "Python [conda env:m1_env]",
   "language": "python",
   "name": "conda-env-m1_env-py"
  },
  "language_info": {
   "codemirror_mode": {
    "name": "ipython",
    "version": 3
   },
   "file_extension": ".py",
   "mimetype": "text/x-python",
   "name": "python",
   "nbconvert_exporter": "python",
   "pygments_lexer": "ipython3",
   "version": "3.9.16"
  }
 },
 "nbformat": 4,
 "nbformat_minor": 5
}
