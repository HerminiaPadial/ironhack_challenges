{
 "cells": [
  {
   "cell_type": "code",
   "execution_count": 5,
   "id": "f161005e",
   "metadata": {},
   "outputs": [],
   "source": [
    "def parse(data):\n",
    "    # TODO: your code here\n",
    "    myvalue = 0\n",
    "    mylist = []\n",
    "    for letter in data:\n",
    "        if letter == \"i\":\n",
    "            myvalue+= 1\n",
    "        elif letter == \"d\":\n",
    "            myvalue+= -1\n",
    "        elif letter == \"s\":\n",
    "            myvalue= myvalue**2\n",
    "        elif letter == \"o\":\n",
    "            mylist.append(myvalue)\n",
    "    return mylist"
   ]
  },
  {
   "cell_type": "code",
   "execution_count": 6,
   "id": "7e6e8546",
   "metadata": {},
   "outputs": [
    {
     "data": {
      "text/plain": [
       "[[1, 2, 3]]"
      ]
     },
     "execution_count": 6,
     "metadata": {},
     "output_type": "execute_result"
    }
   ],
   "source": [
    "parse(\"ioioio\")"
   ]
  },
  {
   "cell_type": "code",
   "execution_count": 3,
   "id": "2ba7c5d4",
   "metadata": {},
   "outputs": [
    {
     "data": {
      "text/plain": [
       "[0, 0, 0]"
      ]
     },
     "execution_count": 3,
     "metadata": {},
     "output_type": "execute_result"
    }
   ],
   "source": [
    "parse(\"ooo\")"
   ]
  },
  {
   "cell_type": "code",
   "execution_count": 4,
   "id": "4560e1dc",
   "metadata": {},
   "outputs": [
    {
     "data": {
      "text/plain": [
       "[0, 1]"
      ]
     },
     "execution_count": 4,
     "metadata": {},
     "output_type": "execute_result"
    }
   ],
   "source": [
    "parse(\"idoiido\")"
   ]
  },
  {
   "cell_type": "code",
   "execution_count": null,
   "id": "b1baa5b2",
   "metadata": {},
   "outputs": [],
   "source": []
  }
 ],
 "metadata": {
  "kernelspec": {
   "display_name": "Python [conda env:m1_env]",
   "language": "python",
   "name": "conda-env-m1_env-py"
  },
  "language_info": {
   "codemirror_mode": {
    "name": "ipython",
    "version": 3
   },
   "file_extension": ".py",
   "mimetype": "text/x-python",
   "name": "python",
   "nbconvert_exporter": "python",
   "pygments_lexer": "ipython3",
   "version": "3.9.16"
  }
 },
 "nbformat": 4,
 "nbformat_minor": 5
}
