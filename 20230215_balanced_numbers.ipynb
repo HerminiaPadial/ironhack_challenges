{
 "cells": [
  {
   "cell_type": "code",
   "execution_count": 161,
   "id": "df57759a",
   "metadata": {},
   "outputs": [],
   "source": [
    "def balanced_num(number):\n",
    "    number_list = [int(x) for x in str(number)]\n",
    "    if len(str(number)) %2 == 0:\n",
    "            parmitadizq= int(len(number_list)/2-1)\n",
    "            parmitadder= int(len(number_list)/2+1)\n",
    "            #print(\"if\",parmitadizq, parmitadder)\n",
    "            #print(type(parmitadizq))\n",
    "            sumizqpar= sum(number_list[:parmitadizq])\n",
    "            sumderpar= sum(number_list[parmitadder:])\n",
    "            if sumizqpar == sumderpar:\n",
    "                return \"Balance par\"\n",
    "            else:\n",
    "                return \"Not balance par\"\n",
    "    elif len(str(number)) %2 !=0:\n",
    "            imparmitadizq= int(len(number_list)/2)\n",
    "            imparmitadder= int(len(number_list)/2+1)\n",
    "            #print(\"elif\", imparmitadizq,imparmitadder)\n",
    "            sumizqimp= sum(number_list[:imparmitadizq])\n",
    "            sumderimp= sum(number_list[imparmitadder:])\n",
    "            if sumizqimp == sumderimp:\n",
    "                return \"Balance impar\"\n",
    "            else:\n",
    "                return \"Not balance impar\"\n"
   ]
  },
  {
   "cell_type": "code",
   "execution_count": 168,
   "id": "3ed64983",
   "metadata": {},
   "outputs": [
    {
     "data": {
      "text/plain": [
       "'Not balance impar'"
      ]
     },
     "execution_count": 168,
     "metadata": {},
     "output_type": "execute_result"
    }
   ],
   "source": [
    "balanced_num(241)"
   ]
  },
  {
   "cell_type": "code",
   "execution_count": 169,
   "id": "7f76265f",
   "metadata": {},
   "outputs": [
    {
     "data": {
      "text/plain": [
       "'Balance impar'"
      ]
     },
     "execution_count": 169,
     "metadata": {},
     "output_type": "execute_result"
    }
   ],
   "source": [
    "balanced_num(242)"
   ]
  },
  {
   "cell_type": "code",
   "execution_count": 170,
   "id": "b0379bf1",
   "metadata": {},
   "outputs": [
    {
     "data": {
      "text/plain": [
       "'Balance par'"
      ]
     },
     "execution_count": 170,
     "metadata": {},
     "output_type": "execute_result"
    }
   ],
   "source": [
    "balanced_num(22)"
   ]
  },
  {
   "cell_type": "code",
   "execution_count": 171,
   "id": "ace9c13b",
   "metadata": {},
   "outputs": [
    {
     "data": {
      "text/plain": [
       "'Balance par'"
      ]
     },
     "execution_count": 171,
     "metadata": {},
     "output_type": "execute_result"
    }
   ],
   "source": [
    "balanced_num(24)"
   ]
  },
  {
   "cell_type": "code",
   "execution_count": null,
   "id": "493e23b3",
   "metadata": {},
   "outputs": [],
   "source": [
    "####DUDA!!! No entiendo por qué no me funciona con el último caso. Es el único que no pasael filtro"
   ]
  }
 ],
 "metadata": {
  "kernelspec": {
   "display_name": "Python 3 (ipykernel)",
   "language": "python",
   "name": "python3"
  },
  "language_info": {
   "codemirror_mode": {
    "name": "ipython",
    "version": 3
   },
   "file_extension": ".py",
   "mimetype": "text/x-python",
   "name": "python",
   "nbconvert_exporter": "python",
   "pygments_lexer": "ipython3",
   "version": "3.9.16"
  },
  "vscode": {
   "interpreter": {
    "hash": "add3d0cc64deca652a31ca2e6397b8d1009fc7d92acb581012db910f54eb9372"
   }
  }
 },
 "nbformat": 4,
 "nbformat_minor": 5
}
